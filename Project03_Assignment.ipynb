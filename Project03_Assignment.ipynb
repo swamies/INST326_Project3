{
 "cells": [
  {
   "cell_type": "markdown",
   "id": "cddf5de3-a9f3-4471-bbaf-aca41a70ce89",
   "metadata": {},
   "source": [
    "### INST326 OOP Project 03"
   ]
  },
  {
   "cell_type": "markdown",
   "id": "2bb7f115-9eba-4f29-918e-b016e6a7edc8",
   "metadata": {},
   "source": [
    "Rename this notebook, replacing \"_Assignment\" with \"_YourName\"<br>\n",
    "Insert Signature Block Here"
   ]
  },
  {
   "cell_type": "markdown",
   "id": "8ee05bdb-db2d-41c2-9f23-3af75d058612",
   "metadata": {},
   "source": [
    "### The Project\n",
    "Everyone will do the same project this time. This is a group project, so you must work in your assigned groups. Include the link to your group's GitHub repository (one link per group). Use comments in your code to document your solution. If you need to write comments to the grader, add a markdown cell immediately above your code solution and add your comments there. Be sure to read and follow all the requirements and the Notebook Instructions at the bottom of this notebook. Your grade may depend on it!"
   ]
  },
  {
   "cell_type": "markdown",
   "id": "a1c98e85-2c64-4a03-8309-d91035cca6d2",
   "metadata": {},
   "source": [
    "#### 1. A Scheduling Program\r",
    ">  My wife is responsible for scheduling caregivers for her 93 year-old mother. Currently she writes out the schedule on a monthly calendar and photocopies it for everyone. I want all of you to help me write a program to help her with scheduling. While this is a specific application, this program will be broadly useful and adaptable to any scheduling needs for small businesses, clubs, and more."
   ]
  },
  {
   "cell_type": "markdown",
   "id": "28b28d8a-dbb3-4f15-bbe0-e14504b84876",
   "metadata": {},
   "source": [
    "#### Requirements\n",
    ">  Care is required 12 hours per day, 7 days a week. There are two shifts each day: 7:00 AM - 1:00 PM, and 1:00 PM to 7:00 PM. There are a total of 8 caregivers. Some are family members and some are paid. Each caregiver has their own availability for shifts that is generally the same from month to month, but there are exceptions for work, vacations, and other responsibilities. Your program should do the following:\n",
    "> 1. Manage caregivers and their schedules. Attributes include: name, phone, email, pay rate, and hours.\n",
    "> 2. Each caregiver should have their own availability schedule where they can indicate their availability for each shift. Availability categories are 'preferred', 'available' (default), and 'unavailable'.\n",
    "> 3. Create a care schedule that covers AM and PM shifts and displays caregiver names on a calendar (see example). The schedule should accomodate caregivers' individual schedules and availability preferences. The python calendar module provides options for creating HTML calendars. Sample code for the HTML calendar is in the project folder.\n",
    "> 4. Paid caregivers are paid weekly at $20/hr. Your program should calculate weekly pay based on assigned hours. Provide a separate pay report that lists weekly (gross: hours x rate) amounts to each caregiver, along with weekly and monthly totals. The report can be a text document, or presented in GUI or HTML format. "
   ]
  },
  {
   "cell_type": "markdown",
   "id": "6708f6cf-aac7-430e-947d-6f9c8dd161f6",
   "metadata": {
    "jp-MarkdownHeadingCollapsed": true
   },
   "source": [
    "#### Group Requirements\n",
    ">  1. Your submitted project should follow OOP principles like abstraction, encapsulation, inheritance, and polymorphism as appropriate. Your program should use classes. \n",
    ">  2. Select a group leader who will host the group's project repository on their GitHub.\n",
    ">  3. Create the group repository and add a main program document. See example.\n",
    ">  4. Create branches off the main program for each group member, and assign part of the program to each member.\n",
    ">  5. Each member should work on their branch.\n",
    ">  6. When each member is finished, merge the branches back into the main program. You may use 'merge' or 'pull requests', your choice.\n",
    ">  7. iterate and debug as necessary."
   ]
  },
  {
   "cell_type": "markdown",
   "id": "71b8f18e-607a-4c94-81a3-ebbc488ba8c6",
   "metadata": {},
   "source": [
    "#### Working with HTML\n",
    "> Since this is a course on python, not HTML, you are not expected to know HTML. Therefore, you may copy applicable portions of the sample code or use AI to write the HTML portions of your application. Ypu should write the main python code yourself.\n"
   ]
  },
  {
   "cell_type": "markdown",
   "id": "fc336368-4292-42af-aa60-06b27ff6b303",
   "metadata": {
    "jp-MarkdownHeadingCollapsed": true
   },
   "source": [
    "#### What you need to turn in\n",
    ">  This is a group project. There will be one submission per group. Your submission will be graded as a group.\n",
    ">  1. Include your group number and the names of all group members in the signature block at the top of this notebook.\n",
    ">  2. In the cell below, paste the link to your project repository. One link per group. The grader will review the activity and history provided by GitHub. To add a hyperlink to a Jupyter markdown cell, follow the instructions in the cell below.\n",
    ">  3. Below the GitHub Repository Link cell is a code cell. Copy and paste your final program code into this cell."
   ]
  },
  {
   "cell_type": "markdown",
   "id": "3ece03e6-a41f-484d-8417-d8c4e156b2c0",
   "metadata": {},
   "source": [
    "#### GitHub Repository Link\n",
    "> Example: [INST326_Fall2024/Projects/Project03](https://github.com/sdempwolf/INST326_Fall_2024/tree/main/Projects/Project03)\n",
    ">\n",
    "> Edit the link code below with your information, then run this cell. Test the link! It should take you to your GitHub project repository.\n",
    "> [external link text](http://url_here)"
   ]
  },
  {
   "cell_type": "code",
   "execution_count": null,
   "id": "cb35b908-6683-4144-816c-051715925504",
   "metadata": {},
   "outputs": [],
   "source": [
    import calendar
import random

# Caregiver class from Part 1
class Caregiver:
    def __init__(self, name, phone, email, pay_rate=20):
        self.name = name
        self.phone = phone
        self.email = email
        self.pay_rate = pay_rate
        self.hours = 0
        self.availability = self.initialize_availability()

    def initialize_availability(self):
        # Default all shifts to 'available'
        return {day: {'Morning': 'available', 'Evening': 'available'} for day in range(1, 32)}

    def set_availability(self, day, shift, ability):
        if day in self.availability and shift in self.availability[day]:
            self.availability[day][shift] = ability


# Randomly generate the work schedule for all shifts
def generate_work_schedule(caregivers, year, month):
    """
    Randomly assigns caregivers to shifts for each day in the month based on their availability.
    """
    num_days = calendar.monthrange(year, month)[1]
    shifts = ["Morning", "Evening"]
    schedule = {}

    for day in range(1, num_days + 1):
        schedule[day] = {}
        for shift in shifts:
            # Randomly choose a caregiver who is 'available' or 'preferred' for the shift
            available_caregivers = [
                caregiver for caregiver in caregivers
                if caregiver.availability.get(day, {}).get(shift) in ['available', 'preferred']
            ]
            if available_caregivers:
                schedule[day][shift] = random.choice(available_caregivers).name
            else:
                schedule[day][shift] = "No one available"

    return schedule


# Modify specific caregiver availability
def modify_caregiver_availability(caregiver, year, month):
    """
    Allows a user to modify the weekly schedule of a specific caregiver.
    """
    print(f"\nModifying availability for {caregiver.name}")
    day_names = list(calendar.day_name)  # ['Monday', 'Tuesday', 'Wednesday', ...]

    # Get the number of days in the month
    num_days = calendar.monthrange(year, month)[1]

    # Collect availability for each weekday
    weekly_availability = {}
    for i, day_name in enumerate(day_names):  # Iterate over Monday-Sunday
        print(f"\nSetting availability for {day_name}:")
        morning = input(f"Morning shift (7:00AM - 1:00PM): Enter 'preferred', 'available', or 'unavailable': ").lower()
        evening = input(f"Evening shift (1:00PM - 7:00PM): Enter 'preferred', 'available', or 'unavailable': ").lower()

        # Validate input
        morning = morning if morning in ["preferred", "available", "unavailable"] else "available"
        evening = evening if evening in ["preferred", "available", "unavailable"] else "available"

        weekly_availability[day_name] = {"Morning": morning, "Evening": evening}

    # Apply the updated weekly availability to the entire month
    for day in range(1, num_days + 1):  # Iterate over valid days in the month
        weekday_index = calendar.weekday(year, month, day)  # Get the weekday index for the day
        weekday_name = day_names[weekday_index]  # Map index to weekday name
        caregiver.availability[day] = weekly_availability[weekday_name]


# Generate and save weekly availability schedule for individual caregivers
def display_weekly_availability_schedule(caregiver, year, month):
    """
    Generates an HTML file displaying the caregiver's updated weekly availability schedule.
    """
    html_schedule = f"""
    <html>
    <head>
        <title>User Availability Schedule for {caregiver.name}</title>
        <style>
            table {{
                border-collapse: collapse;
                width: 100%;
                margin: 20px 0;
            }}
            th, td {{
                border: 1px solid black;
                padding: 10px;
                text-align: center;
            }}
            th {{
                background-color: #f2f2f2;
            }}
            td {{
                height: 50px;
                vertical-align: top;
            }}
        </style>
    </head>
    <body>
        <h1>User Availability Schedule for {caregiver.name}</h1>
        <table>
            <tr>
                <th>Mon</th>
                <th>Tue</th>
                <th>Wed</th>
                <th>Thu</th>
                <th>Fri</th>
                <th>Sat</th>
                <th>Sun</th>
            </tr>
            <tr>
    """

    # Get the number of days in the month and the first weekday
    num_days = calendar.monthrange(year, month)[1]
    first_weekday = calendar.monthrange(year, month)[0]  # 0 = Monday, 6 = Sunday

    # Map availability to weekdays
    days_in_week = ["Monday", "Tuesday", "Wednesday", "Thursday", "Friday", "Saturday", "Sunday"]
    weekly_availability = {day: {"Morning": "", "Evening": ""} for day in days_in_week}

    # Populate availability based on caregiver's actual schedule
    for day in range(1, num_days + 1):
        weekday_index = (first_weekday + day - 1) % 7  # Calculate weekday index (0 = Mon, 6 = Sun)
        weekday_name = days_in_week[weekday_index]  # Get the weekday name
        morning = caregiver.availability.get(day, {}).get("Morning", "available")
        evening = caregiver.availability.get(day, {}).get("Evening", "available")
        weekly_availability[weekday_name] = {"Morning": morning, "Evening": evening}

    # Format the table row
    for day_name in days_in_week:
        morning = weekly_availability[day_name]["Morning"]
        evening = weekly_availability[day_name]["Evening"]
        html_schedule += f"<td><b>Morning:</b> {morning}<br><b>Afternoon:</b> {evening}</td>"

    html_schedule += """
            </tr>
        </table>
    </body>
    </html>
    """

    file_name = f"user_availability_schedule_{caregiver.name.replace(' ', '_')}.html"
    with open(file_name, "w") as file:
        file.write(html_schedule)

    print(f"Weekly availability schedule for {caregiver.name} saved as {file_name}")


# Generate and save work schedule for all caregivers
def display_work_schedule(schedule, year, month):
    """
    Generates an HTML file displaying the caregiver work schedule for the month.
    """
    html_schedule = f"""
    <html>
    <head>
        <title>Work Schedule for {calendar.month_name[month]} {year}</title>
        <style>
            table {{
                border-collapse: collapse;
                width: 100%;
                margin: 20px 0;
            }}
            th, td {{
                border: 1px solid black;
                padding: 10px;
                text-align: center;
            }}
            th {{
                background-color: #f2f2f2;
            }}
            td {{
                height: 100px;
                vertical-align: top;
            }}
        </style>
    </head>
    <body>
        <h1>Work Schedule for {calendar.month_name[month]} {year}</h1>
        <table>
            <tr>
                <th>Mon</th>
                <th>Tue</th>
                <th>Wed</th>
                <th>Thu</th>
                <th>Fri</th>
                <th>Sat</th>
                <th>Sun</th>
            </tr>
    """
    first_weekday, num_days = calendar.monthrange(year, month)
    current_day = 1

    for week in range((num_days + first_weekday) // 7 + 1):
        html_schedule += "<tr>"
        for day in range(7):
            if (week == 0 and day < first_weekday) or current_day > num_days:
                html_schedule += "<td></td>"  # Empty cell for days outside the month
            else:
                shifts_for_day = schedule.get(current_day, {})
                morning_shift = shifts_for_day.get("Morning", "N/A")
                evening_shift = shifts_for_day.get("Evening", "N/A")

                html_schedule += f"<td>{current_day}<br><b>AM:</b> {morning_shift}<br><b>PM:</b> {evening_shift}</td>"
                current_day += 1
        html_schedule += "</tr>"

    html_schedule += """
        </table>
    </body>
    </html>
    """

    file_name = f"work_schedule_{month}_{year}.html"
    with open(file_name, "w") as file:
        file.write(html_schedule)

    print(f"Work schedule saved as {file_name}")


if __name__ == "__main__":
    # Define example caregivers
    caregivers = [
        Caregiver("Alice", "123-456-7890", "alice@example.com"),
        Caregiver("Bob", "234-567-8901", "bob@example.com"),
        Caregiver("Charlie", "345-678-9012", "charlie@example.com"),
        Caregiver("David", "456-789-0123", "david@example.com"),
        Caregiver("Eve", "567-890-1234", "eve@example.com"),
        Caregiver("Frank", "678-901-2345", "frank@example.com"),
        Caregiver("Grace", "789-012-3456", "grace@example.com"),
        Caregiver("Hannah", "890-123-4567", "hannah@example.com")
    ]

    # Prompt user for year and month
    year = int(input("Enter the year: "))
    month = int(input("Enter the month (1-12): "))

    while True:
        # Allow the user to modify availability for a specific caregiver
        print("\n=== Caregiver Menu ===")
        for i, caregiver in enumerate(caregivers, start=1):
            print(f"{i}. {caregiver.name}")
        print(f"{len(caregivers) + 1}. Done modifying availability")

        choice = int(input("Select a caregiver to modify(1-8) or choose 'Done'(9): "))
        if choice == len(caregivers) + 1:
            break
        elif 1 <= choice <= len(caregivers):
            modify_caregiver_availability(caregivers[choice - 1], year, month)
        else:
            print("Invalid choice. Please try again.")

    # Generate randomized work schedule
    work_schedule = generate_work_schedule(caregivers, year, month)

    # Display the work schedule in HTML format
    display_work_schedule(work_schedule, year, month)

    # Generate weekly availability schedules for each caregiver
    for caregiver in caregivers:
        display_weekly_availability_schedule(caregiver, year, month)

   ]
  },
  {
   "cell_type": "markdown",
   "id": "ec8ddd19-87cd-475d-a07f-7dc8983dc636",
   "metadata": {},
   "source": [
    "### Notebook Instructions\n",
    "> Before turning in your notebook:\n",
    "> 1. Make sure you have renamed the notebook file as instructed\n",
    "> 2. Make sure you have included your signature block and that it is correct according to the instructions\n",
    "> 3. comment your code as necessary\n",
    "> 4. run all code cells and double check that they run correctly. If you can't get your code to run correctly and you want partial credit, add a note for the grader in a new markdown cell directly above your code solution.<br><br>\n",
    "Turn in your notebook by uploading it to ELMS<br>\n",
    "IF the exercises involve saved data files, put your notebook and the data file(s) in a zip folder and upload the zip folder to ELMS"
   ]
  },
  {
   "cell_type": "code",
   "execution_count": null,
   "id": "c2f96be2-9bc0-46ea-98fb-51d8c07c7de8",
   "metadata": {},
   "outputs": [],
   "source": []
  }
 ],
 "metadata": {
  "kernelspec": {
   "display_name": "Python 3 (ipykernel)",
   "language": "python",
   "name": "python3"
  },
  "language_info": {
   "codemirror_mode": {
    "name": "ipython",
    "version": 3
   },
   "file_extension": ".py",
   "mimetype": "text/x-python",
   "name": "python",
   "nbconvert_exporter": "python",
   "pygments_lexer": "ipython3",
   "version": "3.12.4"
  }
 },
 "nbformat": 4,
 "nbformat_minor": 5
}
